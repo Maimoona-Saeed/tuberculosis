{
  "nbformat": 4,
  "nbformat_minor": 0,
  "metadata": {
    "colab": {
      "provenance": []
    },
    "kernelspec": {
      "name": "python3",
      "display_name": "Python 3"
    },
    "language_info": {
      "name": "python"
    }
  },
  "cells": [
    {
      "cell_type": "code",
      "execution_count": null,
      "metadata": {
        "id": "s69sS4U7_l-T"
      },
      "outputs": [],
      "source": [
        "import cv2\n",
        "import numpy as np\n",
        "import matplotlib.pyplot as plt\n",
        "import os\n",
        "import shutil\n",
        "from sklearn.model_selection import train_test_split\n",
        "import tensorflow as tf\n",
        "from tensorflow.keras.applications import EfficientNetB3\n",
        "from tensorflow.keras import layers\n",
        "from tensorflow.keras.preprocessing.image import ImageDataGenerator\n",
        "from google.colab import files"
      ]
    },
    {
      "cell_type": "code",
      "source": [
        "# DIP Preprocessing\n",
        "\n",
        "def preprocess_image(image):\n",
        "    gray = cv2.cvtColor(image, cv2.COLOR_BGR2GRAY)\n",
        "    clahe = cv2.createCLAHE(clipLimit=2.0, tileGridSize=(8,8))\n",
        "    enhanced = clahe.apply(gray)\n",
        "    blur = cv2.GaussianBlur(enhanced, (5,5), 0)\n",
        "    return blur\n",
        "\n",
        "def segment_tb_regions(image):\n",
        "    binary = cv2.adaptiveThreshold(image, 255, cv2.ADAPTIVE_THRESH_GAUSSIAN_C,\n",
        "                                   cv2.THRESH_BINARY_INV, 11, 2)\n",
        "    kernel = np.ones((5,5), np.uint8)\n",
        "    closing = cv2.morphologyEx(binary, cv2.MORPH_CLOSE, kernel, iterations=2)\n",
        "    opening = cv2.morphologyEx(closing, cv2.MORPH_OPEN, kernel, iterations=1)\n",
        "    return opening\n",
        "\n",
        "def visualize_suspicious_regions(original, segmented):\n",
        "    contours, _ = cv2.findContours(segmented, cv2.RETR_EXTERNAL, cv2.CHAIN_APPROX_SIMPLE)\n",
        "    for contour in contours:\n",
        "        area = cv2.contourArea(contour)\n",
        "        if area > 100:\n",
        "            x, y, w, h = cv2.boundingRect(contour)\n",
        "            cv2.rectangle(original, (x, y), (x + w, y + h), (0, 255, 0), 2)\n",
        "    plt.imshow(cv2.cvtColor(original, cv2.COLOR_BGR2RGB))\n",
        "    plt.axis('off')\n",
        "    plt.title(\"Suspicious Regions (DIP Visualization)\")\n",
        "    plt.show()"
      ],
      "metadata": {
        "id": "RtEorSeQAhcd"
      },
      "execution_count": null,
      "outputs": []
    },
    {
      "cell_type": "code",
      "source": [
        "#dataset\n",
        "\n",
        "def prepare_data(dataset_path, output_path=\"data\"):\n",
        "    # Define the actual class directory names in the dataset\n",
        "    class_dirs = {'Normal': 'Normal Chest X-rays', 'Tuberculosis': 'TB Chest X-rays'}\n",
        "\n",
        "    for split in ['train','val','test']:\n",
        "        for class_name in ['Normal','Tuberculosis']:\n",
        "            os.makedirs(f\"{output_path}/{split}/{class_name}\", exist_ok=True)\n",
        "\n",
        "    for class_name, dir_name in class_dirs.items():\n",
        "        target_dir = f\"{dataset_path}/{dir_name}\"\n",
        "        print(f\"Attempting to list directory: {target_dir}\") # Added print statement\n",
        "        files_list = os.listdir(target_dir)\n",
        "        train, temp = train_test_split(files_list, test_size=0.3, random_state=42)\n",
        "        val, test = train_test_split(temp, test_size=0.5, random_state=42)\n",
        "        for file_list, split in [(train,'train'), (val,'val'), (test,'test')]:\n",
        "            for file in file_list:\n",
        "                shutil.copy2(f\"{target_dir}/{file}\",\n",
        "                             f\"{output_path}/{split}/{class_name}/{file}\")"
      ],
      "metadata": {
        "id": "RW-1ewtDAcsG"
      },
      "execution_count": null,
      "outputs": []
    },
    {
      "cell_type": "code",
      "source": [
        "# model\n",
        "\n",
        "def create_model():\n",
        "    base = EfficientNetB3(weights='imagenet', include_top=False, input_shape=(224,224,3))\n",
        "    base.trainable = False\n",
        "    model = tf.keras.Sequential([\n",
        "        base,\n",
        "        layers.GlobalAveragePooling2D(),\n",
        "        layers.Dropout(0.3),\n",
        "        layers.Dense(128, activation='relu'),\n",
        "        layers.Dropout(0.5),\n",
        "        layers.Dense(1, activation='sigmoid')\n",
        "    ])\n",
        "    model.compile(optimizer='adam', loss='binary_crossentropy', metrics=['accuracy'])\n",
        "    return model\n"
      ],
      "metadata": {
        "id": "oNiI-YbQAV1m"
      },
      "execution_count": null,
      "outputs": []
    },
    {
      "cell_type": "code",
      "source": [
        "#data generation\n",
        "\n",
        "def setup_data():\n",
        "    train_gen = ImageDataGenerator(rescale=1./255,\n",
        "                                   rotation_range=15,\n",
        "                                   zoom_range=0.1,\n",
        "                                   horizontal_flip=True)\n",
        "    val_gen = ImageDataGenerator(rescale=1./255)\n",
        "\n",
        "    train_data = train_gen.flow_from_directory('data/train', target_size=(224,224),\n",
        "                                               batch_size=16, class_mode='binary')\n",
        "    val_data = val_gen.flow_from_directory('data/val', target_size=(224,224),\n",
        "                                           batch_size=16, class_mode='binary')\n",
        "    test_data = val_gen.flow_from_directory('data/test', target_size=(224,224),\n",
        "                                           batch_size=16, class_mode='binary')\n",
        "    return train_data, val_data, test_data"
      ],
      "metadata": {
        "id": "lTqxSSuAATxW"
      },
      "execution_count": null,
      "outputs": []
    },
    {
      "cell_type": "code",
      "source": [
        "# training\n",
        "def train_model(model, train_data, val_data):\n",
        "    callbacks = [\n",
        "        tf.keras.callbacks.EarlyStopping(patience=5, restore_best_weights=True),\n",
        "        tf.keras.callbacks.ReduceLROnPlateau(factor=0.5, patience=3)\n",
        "    ]\n",
        "    class_weight = {0: 4.85, 1: 1.0}  # handle imbalance\n",
        "    history = model.fit(train_data, epochs=20, validation_data=val_data,\n",
        "                        callbacks=callbacks, class_weight=class_weight)\n",
        "    return history"
      ],
      "metadata": {
        "id": "BYhdu1x5ARdZ"
      },
      "execution_count": null,
      "outputs": []
    },
    {
      "cell_type": "code",
      "source": [
        "# upload image for prediction\n",
        "\n",
        "def predict_uploaded_image(model):\n",
        "    uploaded = files.upload()\n",
        "    for filename in uploaded.keys():\n",
        "        img = cv2.imread(filename)\n",
        "        preprocessed = preprocess_image(img)\n",
        "        segmented = segment_tb_regions(preprocessed)\n",
        "        visualize_suspicious_regions(img.copy(), segmented)\n",
        "\n",
        "        img_array = cv2.resize(img, (224,224))\n",
        "        img_array = img_array / 255.0\n",
        "        img_array = np.expand_dims(img_array, axis=0)\n",
        "\n",
        "        pred = model.predict(img_array)[0][0]\n",
        "        result = \"TB Positive\" if pred>0.5 else \"TB Negative\"\n",
        "        confidence = pred*100 if pred>0.5 else (1-pred)*100\n",
        "        print(f\"Model Prediction: {result} (Confidence: {confidence:.1f}%)\")"
      ],
      "metadata": {
        "id": "69ZVMK5xAO1t"
      },
      "execution_count": null,
      "outputs": []
    },
    {
      "cell_type": "code",
      "source": [
        "# execution\n",
        "dataset_path = \"/content/TB_Chest_Radiography_Database/Dataset of Tuberculosis Chest X-rays Images\" # Updated path to the nested directory\n",
        "\n",
        "#prepare\n",
        "prepare_data(dataset_path=dataset_path)\n",
        "\n",
        "# setup\n",
        "train_data, val_data, test_data = setup_data()\n",
        "\n",
        "# create and train model\n",
        "model = create_model()\n",
        "history = train_model(model, train_data, val_data)\n",
        "\n",
        "# upload and predict a single image\n",
        "predict_uploaded_image(model)"
      ],
      "metadata": {
        "id": "bTaYZUJRALGx"
      },
      "execution_count": null,
      "outputs": []
    }
  ]
}